{
 "cells": [
  {
   "cell_type": "markdown",
   "id": "1afebfea",
   "metadata": {},
   "source": [
    "### Overview\n",
    "\n",
    "This project is to build chatBot to read your own PDF file. Empower user to chat with their own data and capture insights from the documents efficiently.\n",
    "\n",
    "The demo uses HR PDF document from Microsoft's fictional company Contoso Electronics."
   ]
  },
  {
   "cell_type": "code",
   "execution_count": 1,
   "id": "ac064008",
   "metadata": {},
   "outputs": [],
   "source": [
    "import streamlit as st\n",
    "from dotenv import load_dotenv\n",
    "from PyPDF2 import PdfReader \n",
    "from langchain.text_splitter import CharacterTextSplitter\n",
    "from langchain.embeddings import OpenAIEmbeddings\n",
    "from langchain.vectorstores import FAISS\n",
    "from langchain.chat_models import ChatOpenAI\n",
    "from langchain.memory import ConversationBufferMemory\n",
    "from langchain.chains import ConversationalRetrievalChain\n",
    "from htmlTemplates import css, bot_template, user_template"
   ]
  },
  {
   "cell_type": "code",
   "execution_count": 9,
   "id": "bf4e976f",
   "metadata": {},
   "outputs": [],
   "source": [
    "def get_pdf_text(pdf_docs):\n",
    "    text  = ''\n",
    "    for pdf in pdf_docs:\n",
    "        pdf_reader = PdfReader(pdf)\n",
    "        for page in pdf_reader.pages:\n",
    "            text = text + page.extract_text()\n",
    "    return text"
   ]
  },
  {
   "cell_type": "code",
   "execution_count": 12,
   "id": "45b7ed4b",
   "metadata": {},
   "outputs": [],
   "source": [
    "def get_text_chunks(text):\n",
    "    text_splitter = CharacterTextSplitter(separator = '\\n', chunk_size = 1000, \n",
    "                                          chunk_overlap = 200, length_function = len)\n",
    "    chunks = text_splitter.split_text(text)\n",
    "    return chunks"
   ]
  },
  {
   "cell_type": "code",
   "execution_count": null,
   "id": "e9878a1b",
   "metadata": {},
   "outputs": [],
   "source": [
    "def get_vectorstore(text_chunks):\n",
    "    embeddings = OpenAIEmbeddings()\n",
    "    vectorstore = FAISS.from_texts(texts = text_chunks, embedding = embeddings)\n",
    "    return vectorstore"
   ]
  },
  {
   "cell_type": "code",
   "execution_count": null,
   "id": "b1e8152e",
   "metadata": {},
   "outputs": [],
   "source": [
    "def get_conversation_chain(vectorstore):\n",
    "    memory = ConversationBufferMemory(memory_key = 'chat_history', return_messages = True)\n",
    "    llm = ChatOpenAI()\n",
    "    conversation_chain = ConversationalRetrievalChain.from_llm(\n",
    "                          llm = llm, retriever = vectorstore.as_retriever(), memory = memory )\n",
    "    return conversation_chain"
   ]
  },
  {
   "cell_type": "code",
   "execution_count": null,
   "id": "82c081ca",
   "metadata": {},
   "outputs": [],
   "source": [
    "def handle_userinput(user_question):\n",
    "    response = st.session_state.conversation({'question':user_question})\n",
    "    st.session_state.chat_history = response['chat_history']\n",
    "    for i, message in enumerate(st.session_state.chat_history):\n",
    "        if i % 2 == 0:\n",
    "            st.write(user_template.replace('{{MSG}}', message.content), unsafe_allow_html = True)\n",
    "        else:\n",
    "            st.write(bot_template.replace('{{MSG}}', message.content), unsafe_allow_html = True)    "
   ]
  },
  {
   "cell_type": "code",
   "execution_count": null,
   "id": "984c2ae9",
   "metadata": {},
   "outputs": [],
   "source": [
    "raw_text ='''\n",
    "Welcome to Contoso Electronics! We are excited to offer our employees two comprehensive health insurance plans through Northwind Health.\n",
    "Northwind Health Plus\n",
    "Northwind Health Plus is a comprehensive plan that provides comprehensive coverage for medical, vision, and dental services. This plan also offers prescription drug coverage, mental health and substance abuse coverage, and coverage for preventive care services. With Northwind Health Plus, you can choose from a variety of in-network providers, including primary care physicians, specialists, hospitals, and pharmacies. This plan also offers coverage for emergency services, both in-network and out-of-network.\n",
    "Northwind Standard\n",
    "Northwind Standard is a basic plan that provides coverage for medical, vision, and dental services. This plan also offers coverage for preventive care services, as well as prescription drug coverage. With Northwind Standard, you can choose from a variety of in-network providers, including primary care physicians, specialists, hospitals, and pharmacies. This plan does not offer coverage for emergency services, mental health and substance abuse coverage, or out-of-network services.\n",
    "Comparison of Plans\n",
    "Both plans offer coverage for routine physicals, well-child visits, immunizations, and other preventive care services. The plans also cover preventive care services such as mammograms, colonoscopies, and other cancer screenings.\n",
    "Northwind Health Plus offers more comprehensive coverage than Northwind Standard. This plan offers coverage for emergency services, both in-network and out-of-network, as well as mental health and substance abuse coverage. Northwind Standard does not offer coverage for emergency services, mental health and substance abuse coverage, or out-of-network services.\n",
    "Both plans offer coverage for prescription drugs. Northwind Health Plus offers a wider range of prescription drug coverage than Northwind Standard. Northwind Health Plus covers generic, brand-name, and specialty drugs, while Northwind Standard only covers generic and brand-name drugs.\n",
    "Both plans offer coverage for vision and dental services. Northwind Health Plus offers coverage for vision exams, glasses, and contact lenses, as well as dental exams, cleanings, and fillings. Northwind Standard only offers coverage for vision exams and glasses.\n",
    "Both plans offer coverage for medical services. Northwind Health Plus offers coverage for hospital stays, doctor visits, lab tests, and X-rays. Northwind Standard only offers coverage for doctor visits and lab tests.\n",
    "'''\n",
    "text_chunks = get_text_chunks(raw_text)"
   ]
  },
  {
   "cell_type": "code",
   "execution_count": 11,
   "id": "c6bb67a4",
   "metadata": {},
   "outputs": [],
   "source": [
    "def main():\n",
    "    load_dotenv()\n",
    "    st.set_page_config(page_title='Chat With PDF', page_icon = ':books:')\n",
    "    st.write(css, unsafe_allow_html = True)\n",
    "        \n",
    "    if 'conversation' not in st.session_state:\n",
    "        st.session_state.conversation = None\n",
    "        \n",
    "    if 'chat_history' not in st.session_state:\n",
    "        st.session_state.chat_history = None\n",
    "    \n",
    "    \n",
    "    st.header('Chat With PDF :books:')\n",
    "    user_question = st.text_input('Ask a question about your document:')\n",
    "    if user_question:\n",
    "        handle_userinput(user_question)\n",
    "    \n",
    "    # st.write(user_template.replace('{{MSG}}','Hello Robert'), unsafe_allow_html = True)\n",
    "    # st.write(bot_template.replace('{{MSG}}','Hello Human'), unsafe_allow_html = True)\n",
    "   \n",
    "    # put components in sidebar using \"with\", don't add parentheses like st.sidebar()\n",
    "    with st.sidebar:\n",
    "        st.subheader('Your Documents')\n",
    "        pdf_docs = st.file_uploader('Upload your PDF file and click on \"Process\"', accept_multiple_files=True)\n",
    "        # button becomes true after use click it\n",
    "        if st.button('Process'):\n",
    "            # being user friendly to show process running before it ends\n",
    "            with st.spinner(\"Processing...\"):\n",
    "                # get pdf text\n",
    "                raw_text = get_pdf_text(pdf_docs)\n",
    "                #st.write(raw_text)\n",
    "                \n",
    "                # split text into chunks\n",
    "                text_chunks = get_text_chunks(raw_text)\n",
    "                #st.write(text_chunks)\n",
    "                \n",
    "                # create vector store\n",
    "                vectorstore = get_vectorstore(text_chunks)\n",
    "                \n",
    "                # create conversation chain\n",
    "                st.session_state.conversation = get_conversation_chain(vectorstore)\n",
    "            \n",
    "            "
   ]
  },
  {
   "cell_type": "code",
   "execution_count": null,
   "id": "557a2712",
   "metadata": {},
   "outputs": [],
   "source": [
    "if __name__ == '__main__':\n",
    "    main()"
   ]
  }
 ],
 "metadata": {
  "kernelspec": {
   "display_name": "Python 3 (ipykernel)",
   "language": "python",
   "name": "python3"
  },
  "language_info": {
   "codemirror_mode": {
    "name": "ipython",
    "version": 3
   },
   "file_extension": ".py",
   "mimetype": "text/x-python",
   "name": "python",
   "nbconvert_exporter": "python",
   "pygments_lexer": "ipython3",
   "version": "3.10.2"
  }
 },
 "nbformat": 4,
 "nbformat_minor": 5
}
